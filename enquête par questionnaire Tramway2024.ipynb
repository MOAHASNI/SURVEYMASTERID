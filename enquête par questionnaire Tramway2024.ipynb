{
 "cells": [
  {
   "cell_type": "code",
   "execution_count": 84,
   "id": "6ff2805d-c145-40ab-8a91-32bc466cb6d1",
   "metadata": {
    "tags": []
   },
   "outputs": [
    {
     "data": {
      "text/html": [
       "<div>\n",
       "<style scoped>\n",
       "    .dataframe tbody tr th:only-of-type {\n",
       "        vertical-align: middle;\n",
       "    }\n",
       "\n",
       "    .dataframe tbody tr th {\n",
       "        vertical-align: top;\n",
       "    }\n",
       "\n",
       "    .dataframe thead th {\n",
       "        text-align: right;\n",
       "    }\n",
       "</style>\n",
       "<table border=\"1\" class=\"dataframe\">\n",
       "  <thead>\n",
       "    <tr style=\"text-align: right;\">\n",
       "      <th></th>\n",
       "      <th>age</th>\n",
       "      <th>sex</th>\n",
       "      <th>education</th>\n",
       "      <th>utilisation_tram_frequency_perweek</th>\n",
       "      <th>payment_method</th>\n",
       "      <th>Facilite_tickets</th>\n",
       "      <th>problems_tickets</th>\n",
       "      <th>Facilite_cards</th>\n",
       "      <th>problems_cards</th>\n",
       "      <th>preference</th>\n",
       "      <th>...</th>\n",
       "      <th>harassment_impact</th>\n",
       "      <th>durability_tickets</th>\n",
       "      <th>durability_cards</th>\n",
       "      <th>importance_ecological_sustainability</th>\n",
       "      <th>financial_impact_tickets</th>\n",
       "      <th>influence_preference_cards</th>\n",
       "      <th>economic_longterm_cards</th>\n",
       "      <th>satisfaction</th>\n",
       "      <th>recommendation_likelihood</th>\n",
       "      <th>continue_usage_future</th>\n",
       "    </tr>\n",
       "  </thead>\n",
       "  <tbody>\n",
       "    <tr>\n",
       "      <th>0</th>\n",
       "      <td>18-24 ans</td>\n",
       "      <td>Masculin</td>\n",
       "      <td>Primaire ou moins</td>\n",
       "      <td>1-3 fois</td>\n",
       "      <td>Carte rechargeable</td>\n",
       "      <td>Difficile</td>\n",
       "      <td>Oui</td>\n",
       "      <td>Moyen</td>\n",
       "      <td>Oui</td>\n",
       "      <td>Cartes rechargeables</td>\n",
       "      <td>...</td>\n",
       "      <td>Le harcèlement peut créer un environnement int...</td>\n",
       "      <td>Oui</td>\n",
       "      <td>Non</td>\n",
       "      <td>Pas du tout important</td>\n",
       "      <td>Non</td>\n",
       "      <td>Non</td>\n",
       "      <td>Oui</td>\n",
       "      <td>Moyennement satisfait</td>\n",
       "      <td>Ne sais pas</td>\n",
       "      <td>Oui, certainement</td>\n",
       "    </tr>\n",
       "    <tr>\n",
       "      <th>1</th>\n",
       "      <td>25-34 ans</td>\n",
       "      <td>Féminin</td>\n",
       "      <td>Secondaire</td>\n",
       "      <td>Plus de 6 fois</td>\n",
       "      <td>Carte rechargeable</td>\n",
       "      <td>Facile</td>\n",
       "      <td>Non</td>\n",
       "      <td>Moyen</td>\n",
       "      <td>Oui</td>\n",
       "      <td>Ne préfère ni l'un ni l'autre</td>\n",
       "      <td>...</td>\n",
       "      <td>Il peut également dissuader les personnes de c...</td>\n",
       "      <td>Oui</td>\n",
       "      <td>Oui</td>\n",
       "      <td>Moyennement important</td>\n",
       "      <td>Ne sais pas</td>\n",
       "      <td>Non</td>\n",
       "      <td>Ne sais pas</td>\n",
       "      <td>Très insatisfait</td>\n",
       "      <td>Peu probable</td>\n",
       "      <td>Oui, certainement</td>\n",
       "    </tr>\n",
       "    <tr>\n",
       "      <th>2</th>\n",
       "      <td>Moins de 18 ans</td>\n",
       "      <td>Masculin</td>\n",
       "      <td>Enseignement supérieur</td>\n",
       "      <td>Plus de 6 fois</td>\n",
       "      <td>Carte rechargeable</td>\n",
       "      <td>Très difficile</td>\n",
       "      <td>Oui</td>\n",
       "      <td>Moyen</td>\n",
       "      <td>Oui</td>\n",
       "      <td>Autre</td>\n",
       "      <td>...</td>\n",
       "      <td>Il peut également dissuader les personnes de c...</td>\n",
       "      <td>Oui</td>\n",
       "      <td>Non</td>\n",
       "      <td>Moyennement important</td>\n",
       "      <td>Non</td>\n",
       "      <td>Oui</td>\n",
       "      <td>Non</td>\n",
       "      <td>Très insatisfait</td>\n",
       "      <td>Ne sais pas</td>\n",
       "      <td>Oui, certainement</td>\n",
       "    </tr>\n",
       "    <tr>\n",
       "      <th>3</th>\n",
       "      <td>18-24 ans</td>\n",
       "      <td>Masculin</td>\n",
       "      <td>Secondaire</td>\n",
       "      <td>1-3 fois</td>\n",
       "      <td>Carte rechargeable</td>\n",
       "      <td>Facile</td>\n",
       "      <td>Non</td>\n",
       "      <td>Difficile</td>\n",
       "      <td>Non</td>\n",
       "      <td>Ne préfère ni l'un ni l'autre</td>\n",
       "      <td>...</td>\n",
       "      <td>Le harcèlement peut créer un environnement int...</td>\n",
       "      <td>Oui</td>\n",
       "      <td>Ne sais pas</td>\n",
       "      <td>Pas du tout important</td>\n",
       "      <td>Oui</td>\n",
       "      <td>Ne sais pas</td>\n",
       "      <td>Non</td>\n",
       "      <td>Moyennement satisfait</td>\n",
       "      <td>Probable</td>\n",
       "      <td>Oui, probablement</td>\n",
       "    </tr>\n",
       "    <tr>\n",
       "      <th>4</th>\n",
       "      <td>25-34 ans</td>\n",
       "      <td>Masculin</td>\n",
       "      <td>Primaire ou moins</td>\n",
       "      <td>Moins de 1 fois</td>\n",
       "      <td>Carte rechargeable</td>\n",
       "      <td>Facile</td>\n",
       "      <td>Non</td>\n",
       "      <td>Très difficile</td>\n",
       "      <td>Oui</td>\n",
       "      <td>Autre</td>\n",
       "      <td>...</td>\n",
       "      <td>Le harcèlement peut créer un environnement int...</td>\n",
       "      <td>Non</td>\n",
       "      <td>Oui</td>\n",
       "      <td>Important</td>\n",
       "      <td>Ne sais pas</td>\n",
       "      <td>Non</td>\n",
       "      <td>Oui</td>\n",
       "      <td>Très satisfait</td>\n",
       "      <td>Très probable</td>\n",
       "      <td>Non, certainement pas</td>\n",
       "    </tr>\n",
       "  </tbody>\n",
       "</table>\n",
       "<p>5 rows × 31 columns</p>\n",
       "</div>"
      ],
      "text/plain": [
       "               age       sex               education  \\\n",
       "0        18-24 ans  Masculin       Primaire ou moins   \n",
       "1        25-34 ans   Féminin              Secondaire   \n",
       "2  Moins de 18 ans  Masculin  Enseignement supérieur   \n",
       "3        18-24 ans  Masculin              Secondaire   \n",
       "4        25-34 ans  Masculin       Primaire ou moins   \n",
       "\n",
       "  utilisation_tram_frequency_perweek      payment_method Facilite_tickets  \\\n",
       "0                           1-3 fois  Carte rechargeable        Difficile   \n",
       "1                     Plus de 6 fois  Carte rechargeable           Facile   \n",
       "2                     Plus de 6 fois  Carte rechargeable   Très difficile   \n",
       "3                           1-3 fois  Carte rechargeable           Facile   \n",
       "4                    Moins de 1 fois  Carte rechargeable           Facile   \n",
       "\n",
       "  problems_tickets  Facilite_cards problems_cards  \\\n",
       "0              Oui           Moyen            Oui   \n",
       "1              Non           Moyen            Oui   \n",
       "2              Oui           Moyen            Oui   \n",
       "3              Non       Difficile            Non   \n",
       "4              Non  Très difficile            Oui   \n",
       "\n",
       "                      preference  ...  \\\n",
       "0           Cartes rechargeables  ...   \n",
       "1  Ne préfère ni l'un ni l'autre  ...   \n",
       "2                          Autre  ...   \n",
       "3  Ne préfère ni l'un ni l'autre  ...   \n",
       "4                          Autre  ...   \n",
       "\n",
       "                                   harassment_impact durability_tickets  \\\n",
       "0  Le harcèlement peut créer un environnement int...                Oui   \n",
       "1  Il peut également dissuader les personnes de c...                Oui   \n",
       "2  Il peut également dissuader les personnes de c...                Oui   \n",
       "3  Le harcèlement peut créer un environnement int...                Oui   \n",
       "4  Le harcèlement peut créer un environnement int...                Non   \n",
       "\n",
       "  durability_cards importance_ecological_sustainability  \\\n",
       "0              Non                Pas du tout important   \n",
       "1              Oui                Moyennement important   \n",
       "2              Non                Moyennement important   \n",
       "3      Ne sais pas                Pas du tout important   \n",
       "4              Oui                            Important   \n",
       "\n",
       "  financial_impact_tickets influence_preference_cards economic_longterm_cards  \\\n",
       "0                      Non                        Non                     Oui   \n",
       "1              Ne sais pas                        Non             Ne sais pas   \n",
       "2                      Non                        Oui                     Non   \n",
       "3                      Oui                Ne sais pas                     Non   \n",
       "4              Ne sais pas                        Non                     Oui   \n",
       "\n",
       "            satisfaction recommendation_likelihood  continue_usage_future  \n",
       "0  Moyennement satisfait               Ne sais pas      Oui, certainement  \n",
       "1       Très insatisfait              Peu probable      Oui, certainement  \n",
       "2       Très insatisfait               Ne sais pas      Oui, certainement  \n",
       "3  Moyennement satisfait                  Probable      Oui, probablement  \n",
       "4         Très satisfait             Très probable  Non, certainement pas  \n",
       "\n",
       "[5 rows x 31 columns]"
      ]
     },
     "execution_count": 84,
     "metadata": {},
     "output_type": "execute_result"
    }
   ],
   "source": [
    "import pandas as pd\n",
    "\n",
    "# Load the data from the uploaded file\n",
    "df = pd.read_excel('enquete_par_questionnaire_dataHsn.xlsx')\n",
    "# Display the first few rows of the DataFrame\n",
    "df.head()"
   ]
  },
  {
   "cell_type": "code",
   "execution_count": 85,
   "id": "33bab065-5e0f-4d7d-8135-c0778b847803",
   "metadata": {
    "tags": []
   },
   "outputs": [
    {
     "name": "stdout",
     "output_type": "stream",
     "text": [
      "Frequency of Tramway Usage:\n",
      "utilisation_tram_frequency_perweek\n",
      "4-6 fois           25.28750\n",
      "Plus de 6 fois     24.98125\n",
      "Moins de 1 fois    24.87500\n",
      "1-3 fois           24.85625\n",
      "Name: proportion, dtype: float64\n",
      "\n",
      "Preferred Payment Method:\n",
      "payment_method\n",
      "Carte rechargeable    33.80625\n",
      "Les deux              33.11250\n",
      "Ticket jetable        33.08125\n",
      "Name: proportion, dtype: float64\n",
      "\n",
      "Ease of Use for Tickets:\n",
      "Facilite_tickets\n",
      "Facile            20.39375\n",
      "Très facile       20.35625\n",
      "Difficile         20.05625\n",
      "Très difficile    19.80625\n",
      "Moyen             19.38750\n",
      "Name: proportion, dtype: float64\n",
      "\n",
      "Ease of Use for Cards:\n",
      "Facilite_cards\n",
      "Moyen             20.43125\n",
      "Très facile       20.23125\n",
      "Difficile         19.87500\n",
      "Facile            19.76875\n",
      "Très difficile    19.69375\n",
      "Name: proportion, dtype: float64\n",
      "\n",
      "Value Counts for 'utilisation_tram_frequency_perweek':\n",
      "utilisation_tram_frequency_perweek\n",
      "4-6 fois           4046\n",
      "Plus de 6 fois     3997\n",
      "Moins de 1 fois    3980\n",
      "1-3 fois           3977\n",
      "Name: count, dtype: int64\n",
      "\n",
      "Value Counts for 'payment_method':\n",
      "payment_method\n",
      "Carte rechargeable    5409\n",
      "Les deux              5298\n",
      "Ticket jetable        5293\n",
      "Name: count, dtype: int64\n",
      "\n",
      "Value Counts for 'Facilite_tickets':\n",
      "Facilite_tickets\n",
      "Facile            3263\n",
      "Très facile       3257\n",
      "Difficile         3209\n",
      "Très difficile    3169\n",
      "Moyen             3102\n",
      "Name: count, dtype: int64\n",
      "\n",
      "Value Counts for 'Facilite_cards':\n",
      "Facilite_cards\n",
      "Moyen             3269\n",
      "Très facile       3237\n",
      "Difficile         3180\n",
      "Facile            3163\n",
      "Très difficile    3151\n",
      "Name: count, dtype: int64\n",
      "\n"
     ]
    }
   ],
   "source": [
    "\n",
    "# Analyze the frequency of tramway usage\n",
    "utilisation_tram_frequency_counts = df['utilisation_tram_frequency_perweek'].value_counts(normalize=True) * 100\n",
    "print(\"Frequency of Tramway Usage:\")\n",
    "print(utilisation_tram_frequency_counts)\n",
    "print()\n",
    "\n",
    "# Analyze the preferred payment method\n",
    "payment_method_counts = df['payment_method'].value_counts(normalize=True) * 100\n",
    "print(\"Preferred Payment Method:\")\n",
    "print(payment_method_counts)\n",
    "print()\n",
    "\n",
    "# Analyze the ease of use for tickets and cards\n",
    "facilite_tickets_counts = df['Facilite_tickets'].value_counts(normalize=True) * 100\n",
    "facilite_cards_counts = df['Facilite_cards'].value_counts(normalize=True) * 100\n",
    "print(\"Ease of Use for Tickets:\")\n",
    "print(facilite_tickets_counts)\n",
    "print()\n",
    "print(\"Ease of Use for Cards:\")\n",
    "print(facilite_cards_counts)\n",
    "print()\n",
    "\n",
    "# Print the value counts for each column to verify the format strings\n",
    "print(\"Value Counts for 'utilisation_tram_frequency_perweek':\")\n",
    "print(df['utilisation_tram_frequency_perweek'].value_counts())\n",
    "print()\n",
    "\n",
    "print(\"Value Counts for 'payment_method':\")\n",
    "print(df['payment_method'].value_counts())\n",
    "print()\n",
    "\n",
    "print(\"Value Counts for 'Facilite_tickets':\")\n",
    "print(df['Facilite_tickets'].value_counts())\n",
    "print()\n",
    "\n",
    "print(\"Value Counts for 'Facilite_cards':\")\n",
    "print(df['Facilite_cards'].value_counts())\n",
    "print()\n"
   ]
  },
  {
   "cell_type": "code",
   "execution_count": 64,
   "id": "dc77d59c-6092-432b-814e-d3e63a9b95e5",
   "metadata": {
    "tags": []
   },
   "outputs": [
    {
     "name": "stdout",
     "output_type": "stream",
     "text": [
      "Requirement already satisfied: XlsxWriter in c:\\users\\moami\\anaconda3\\lib\\site-packages (3.2.0)\n",
      "Note: you may need to restart the kernel to use updated packages.\n"
     ]
    }
   ],
   "source": [
    "pip install XlsxWriter\n"
   ]
  },
  {
   "cell_type": "code",
   "execution_count": 65,
   "id": "b7decc2e-4a8c-497b-9512-d941227015d1",
   "metadata": {
    "tags": []
   },
   "outputs": [
    {
     "name": "stdout",
     "output_type": "stream",
     "text": [
      "Frequency of Tramway Usage:\n",
      "utilisation_tram_frequency_perweek\n",
      "4-6 fois           25.28750\n",
      "Plus de 6 fois     24.98125\n",
      "Moins de 1 fois    24.87500\n",
      "1-3 fois           24.85625\n",
      "Name: proportion, dtype: float64\n",
      "\n",
      "Preferred Payment Method:\n",
      "payment_method\n",
      "Carte rechargeable    33.80625\n",
      "Les deux              33.11250\n",
      "Ticket jetable        33.08125\n",
      "Name: proportion, dtype: float64\n",
      "\n",
      "Ease of Use for Tickets:\n",
      "Facilite_tickets\n",
      "Facile            20.39375\n",
      "Très facile       20.35625\n",
      "Difficile         20.05625\n",
      "Très difficile    19.80625\n",
      "Moyen             19.38750\n",
      "Name: proportion, dtype: float64\n",
      "\n",
      "Ease of Use for Cards:\n",
      "Facilite_cards\n",
      "Moyen             20.43125\n",
      "Très facile       20.23125\n",
      "Difficile         19.87500\n",
      "Facile            19.76875\n",
      "Très difficile    19.69375\n",
      "Name: proportion, dtype: float64\n",
      "\n",
      "Value Counts for 'utilisation_tram_frequency_perweek':\n",
      "utilisation_tram_frequency_perweek\n",
      "4-6 fois           4046\n",
      "Plus de 6 fois     3997\n",
      "Moins de 1 fois    3980\n",
      "1-3 fois           3977\n",
      "Name: count, dtype: int64\n",
      "\n",
      "Value Counts for 'payment_method':\n",
      "payment_method\n",
      "Carte rechargeable    5409\n",
      "Les deux              5298\n",
      "Ticket jetable        5293\n",
      "Name: count, dtype: int64\n",
      "\n",
      "Value Counts for 'Facilite_tickets':\n",
      "Facilite_tickets\n",
      "Facile            3263\n",
      "Très facile       3257\n",
      "Difficile         3209\n",
      "Très difficile    3169\n",
      "Moyen             3102\n",
      "Name: count, dtype: int64\n",
      "\n",
      "Value Counts for 'Facilite_cards':\n",
      "Facilite_cards\n",
      "Moyen             3269\n",
      "Très facile       3237\n",
      "Difficile         3180\n",
      "Facile            3163\n",
      "Très difficile    3151\n",
      "Name: count, dtype: int64\n",
      "\n"
     ]
    }
   ],
   "source": [
    "import pandas as pd\n",
    "\n",
    "# Load the data with specified encoding\n",
    "file_path = r'C:\\Users\\moami\\Desktop\\Master ID 2023-2024\\S1 MID\\TECHNIQUE DE SONDAGE\\Projet de din module Technique de sondage Bouaajaja 2023-2024 Hasni-Khayati\\enquete_par_questionnaire_dataHsn.csv'\n",
    "df = pd.read_csv(file_path, encoding='latin-1')\n",
    "\n",
    "# Analyze the frequency of tramway usage\n",
    "utilisation_tram_frequency_counts = df['utilisation_tram_frequency_perweek'].value_counts(normalize=True) * 100\n",
    "print(\"Frequency of Tramway Usage:\")\n",
    "print(utilisation_tram_frequency_counts)\n",
    "print()\n",
    "\n",
    "# Analyze the preferred payment method\n",
    "payment_method_counts = df['payment_method'].value_counts(normalize=True) * 100\n",
    "print(\"Preferred Payment Method:\")\n",
    "print(payment_method_counts)\n",
    "print()\n",
    "\n",
    "# Analyze the ease of use for tickets and cards\n",
    "facilite_tickets_counts = df['Facilite_tickets'].value_counts(normalize=True) * 100\n",
    "facilite_cards_counts = df['Facilite_cards'].value_counts(normalize=True) * 100\n",
    "print(\"Ease of Use for Tickets:\")\n",
    "print(facilite_tickets_counts)\n",
    "print()\n",
    "print(\"Ease of Use for Cards:\")\n",
    "print(facilite_cards_counts)\n",
    "print()\n",
    "\n",
    "# Print the value counts for each column to verify the format strings\n",
    "print(\"Value Counts for 'utilisation_tram_frequency_perweek':\")\n",
    "print(df['utilisation_tram_frequency_perweek'].value_counts())\n",
    "print()\n",
    "\n",
    "print(\"Value Counts for 'payment_method':\")\n",
    "print(df['payment_method'].value_counts())\n",
    "print()\n",
    "\n",
    "print(\"Value Counts for 'Facilite_tickets':\")\n",
    "print(df['Facilite_tickets'].value_counts())\n",
    "print()\n",
    "\n",
    "print(\"Value Counts for 'Facilite_cards':\")\n",
    "print(df['Facilite_cards'].value_counts())\n",
    "print()\n"
   ]
  },
  {
   "cell_type": "code",
   "execution_count": 86,
   "id": "1efe3578-77ed-4922-8f69-3658b8fb0a71",
   "metadata": {
    "tags": []
   },
   "outputs": [],
   "source": [
    "#save the last same code into an excel file \n",
    "import pandas as pd\n",
    "\n",
    "# Load the data with specified encoding\n",
    "file_path = r'C:\\Users\\moami\\Desktop\\Master ID 2023-2024\\S1 MID\\TECHNIQUE DE SONDAGE\\Projet de din module Technique de sondage Bouaajaja 2023-2024 Hasni-Khayati\\enquete_par_questionnaire_dataHsn.csv'\n",
    "df = pd.read_csv(file_path, encoding='latin-1')\n",
    "\n",
    "# Analyze the frequency of tramway usage\n",
    "utilisation_tram_frequency_counts = df['utilisation_tram_frequency_perweek'].value_counts(normalize=True) * 100\n",
    "\n",
    "# Analyze the preferred payment method\n",
    "payment_method_counts = df['payment_method'].value_counts(normalize=True) * 100\n",
    "\n",
    "# Analyze the ease of use for tickets and cards\n",
    "facilite_tickets_counts = df['Facilite_tickets'].value_counts(normalize=True) * 100\n",
    "facilite_cards_counts = df['Facilite_cards'].value_counts(normalize=True) * 100\n",
    "\n",
    "# Create a Pandas Excel writer using XlsxWriter as the engine\n",
    "writer = pd.ExcelWriter('analysis_results.xlsx', engine='xlsxwriter')\n",
    "\n",
    "# Write each analysis to a different sheet in the Excel file\n",
    "utilisation_tram_frequency_counts.to_frame(name='Frequency of Tramway Usage').to_excel(writer, sheet_name='Tramway Usage Frequency')\n",
    "payment_method_counts.to_frame(name='Preferred Payment Method').to_excel(writer, sheet_name='Payment Method')\n",
    "facilite_tickets_counts.to_frame(name='Ease of Use for Tickets').to_excel(writer, sheet_name='Ease of Use for Tickets')\n",
    "facilite_cards_counts.to_frame(name='Ease of Use for Cards').to_excel(writer, sheet_name='Ease of Use for Cards')\n",
    "\n",
    "# Close the Pandas Excel writer and output the Excel file\n",
    "writer.close()\n"
   ]
  },
  {
   "cell_type": "code",
   "execution_count": 67,
   "id": "d1358b9d-82cd-4306-ace3-e28febdc7fad",
   "metadata": {
    "tags": []
   },
   "outputs": [
    {
     "name": "stdout",
     "output_type": "stream",
     "text": [
      "Coût total des tickets jetables : 42344.00 MAD\n",
      "Coût total des cartes rechargeables : 113589.00 MAD\n",
      "La méthode la moins coûteuse est : Ticket jetable\n",
      "\n"
     ]
    }
   ],
   "source": [
    "# Coût unitaire des tickets jetables\n",
    "cost_per_disposable_ticket = 8.0  # En MAD\n",
    "\n",
    "# Coût de la carte rechargeable\n",
    "initial_cost_rechargeable_card = 15.0  # En MAD\n",
    "\n",
    "# Coût unitaire d'un voyage avec la carte rechargeable\n",
    "cost_per_trip_rechargeable_card = 6.0  # En MAD\n",
    "\n",
    "# Calcul du coût total des tickets jetables\n",
    "total_passengers_disposable = df['payment_method'].value_counts()['Ticket jetable']\n",
    "total_cost_disposable = total_passengers_disposable * cost_per_disposable_ticket\n",
    "\n",
    "# Calcul du coût total des cartes rechargeables\n",
    "total_passengers_rechargeable = df['payment_method'].value_counts()['Carte rechargeable']\n",
    "total_cost_rechargeable = (total_passengers_rechargeable * initial_cost_rechargeable_card) + (total_passengers_rechargeable * cost_per_trip_rechargeable_card)\n",
    "\n",
    "# Comparaison des coûts\n",
    "cost_comparison = \"Coût total des tickets jetables : {:.2f} MAD\\n\".format(total_cost_disposable)\n",
    "cost_comparison += \"Coût total des cartes rechargeables : {:.2f} MAD\\n\".format(total_cost_rechargeable)\n",
    "cost_comparison += \"La méthode la moins coûteuse est : {}\\n\".format(\n",
    "    \"Ticket jetable\" if total_cost_disposable < total_cost_rechargeable else \"Carte rechargeable\")\n",
    "\n",
    "print(cost_comparison)\n"
   ]
  },
  {
   "cell_type": "code",
   "execution_count": 68,
   "id": "e636cb6a-de47-4247-a99d-cda7512efcc4",
   "metadata": {
    "tags": []
   },
   "outputs": [
    {
     "name": "stdout",
     "output_type": "stream",
     "text": [
      "Estimation de la quantité de papier sauvé : 278729.38 kg\n",
      "L'utilisation de cartes rechargeables permet de réduire l'impact environnemental en évitant la production de déchets papier.\n",
      "\n"
     ]
    }
   ],
   "source": [
    "# Estimation de la quantité de papier utilisée pour les tickets jetables\n",
    "total_paper_saved = total_passengers_disposable * (df['durability_tickets'].value_counts()['Oui'] * 0.01)  # En kg\n",
    "\n",
    "# Évaluation de l'impact environnemental\n",
    "environmental_impact = \"Estimation de la quantité de papier sauvé : {:.2f} kg\\n\".format(total_paper_saved)\n",
    "environmental_impact += \"L'utilisation de cartes rechargeables permet de réduire l'impact environnemental en évitant la production de déchets papier.\\n\"\n",
    "\n",
    "print(environmental_impact)"
   ]
  },
  {
   "cell_type": "code",
   "execution_count": 69,
   "id": "91d5c217-2a34-4efb-854e-f80fc63040bd",
   "metadata": {
    "tags": []
   },
   "outputs": [
    {
     "name": "stdout",
     "output_type": "stream",
     "text": [
      "Estimation de la quantité de papier sauvé : 26.465 kg\n"
     ]
    }
   ],
   "source": [
    "# Calcul de la quantité de papier sauvé en kg\n",
    "# On suppose qu'un ticket jetable utilise 5g de papier et qu'une carte rechargeable évite l'utilisation de ce papier\n",
    "quantite_papier_sauve = df['payment_method'].value_counts()['Ticket jetable'] * 5 / 1000  # Conversion en kg\n",
    "print(\"Estimation de la quantité de papier sauvé :\", quantite_papier_sauve, \"kg\")\n"
   ]
  },
  {
   "cell_type": "code",
   "execution_count": 70,
   "id": "4ba401f5-eec1-49a7-a35e-94ed385f6aea",
   "metadata": {
    "tags": []
   },
   "outputs": [
    {
     "name": "stdout",
     "output_type": "stream",
     "text": [
      "Corrélation entre l'âge et la méthode de paiement:\n",
      "payment_method   Carte rechargeable   Les deux  Ticket jetable\n",
      "age                                                           \n",
      "18-24 ans                 33.113794  34.248079       32.638127\n",
      "25-34 ans                 33.590139  33.359014       33.050847\n",
      "35-44 ans                 34.115456  32.551210       33.333333\n",
      "45-54 ans                 33.661492  32.790610       33.547899\n",
      "55 ans et plus            35.467255  32.045622       32.487123\n",
      "Moins de 18 ans           32.851161  33.688618       33.460221\n"
     ]
    }
   ],
   "source": [
    "# Analyse de la corrélation entre l'âge des passagers et leur préférence de méthode de paiement\n",
    "age_preference_cross_tab = pd.crosstab(df['age'], df['payment_method'], normalize='index') * 100\n",
    "print(\"Corrélation entre l'âge et la méthode de paiement:\")\n",
    "print(age_preference_cross_tab)\n"
   ]
  },
  {
   "cell_type": "code",
   "execution_count": 71,
   "id": "4f6f8249-3ae2-4346-97dd-1bf102c52264",
   "metadata": {
    "tags": []
   },
   "outputs": [
    {
     "name": "stdout",
     "output_type": "stream",
     "text": [
      "Corrélation entre l'âge et la méthode de paiement:\n",
      "payment_method   Carte rechargeable   Les deux  Ticket jetable\n",
      "age                                                           \n",
      "18-24 ans                 33.113794  34.248079       32.638127\n",
      "25-34 ans                 33.590139  33.359014       33.050847\n",
      "35-44 ans                 34.115456  32.551210       33.333333\n",
      "45-54 ans                 33.661492  32.790610       33.547899\n",
      "55 ans et plus            35.467255  32.045622       32.487123\n",
      "Moins de 18 ans           32.851161  33.688618       33.460221\n"
     ]
    }
   ],
   "source": [
    "import pandas as pd\n",
    "\n",
    "# Supposons que df soit votre DataFrame contenant les données\n",
    "# Analyse de la corrélation entre l'âge des passagers et leur préférence de méthode de paiement\n",
    "age_preference_cross_tab = pd.crosstab(df['age'], df['payment_method'], normalize='index') * 100\n",
    "\n",
    "# Afficher la crosstabulation\n",
    "print(\"Corrélation entre l'âge et la méthode de paiement:\")\n",
    "print(age_preference_cross_tab)\n",
    "\n",
    "# Enregistrer la crosstabulation comme tableau CSV\n",
    "age_preference_cross_tab.to_csv('age_preference_cross_tab.csv')\n",
    "# Export DataFrame to Excel\n",
    "age_preference_cross_tab.to_excel('age_preference_cross_tab.xlsx', index=True)\n",
    "\n",
    "# Open the Excel file, select the table, and copy it into your Word document\n"
   ]
  },
  {
   "cell_type": "code",
   "execution_count": 72,
   "id": "1abef394-c6a8-48c2-b5ac-5941412e2354",
   "metadata": {
    "tags": []
   },
   "outputs": [
    {
     "name": "stdout",
     "output_type": "stream",
     "text": [
      "Corrélation entre la facilité d'utilisation des tickets et la méthode de paiement préférée:\n",
      "preference            Autre  Cartes rechargeables  \\\n",
      "Facilite_tickets                                    \n",
      "Difficile         25.303833             24.805235   \n",
      "Facile            26.172234             25.559301   \n",
      "Moyen             24.242424             26.047711   \n",
      "Très difficile    24.771221             24.613443   \n",
      "Très facile       24.347559             26.251151   \n",
      "\n",
      "preference        Ne préfère ni l'un ni l'autre  Tickets jetables  \n",
      "Facilite_tickets                                                   \n",
      "Difficile                             25.459645         24.431287  \n",
      "Facile                                24.456022         23.812443  \n",
      "Moyen                                 23.694391         26.015474  \n",
      "Très difficile                        25.591669         25.023667  \n",
      "Très facile                           25.606386         23.794903  \n",
      "\n",
      "Corrélation entre la facilité d'utilisation des cartes et la méthode de paiement préférée:\n",
      "preference          Autre  Cartes rechargeables  \\\n",
      "Facilite_cards                                    \n",
      "Difficile       25.314465             24.339623   \n",
      "Facile          24.217515             25.260828   \n",
      "Moyen           25.451208             26.338330   \n",
      "Très difficile  24.627103             25.261822   \n",
      "Très facile     25.239419             26.042632   \n",
      "\n",
      "preference      Ne préfère ni l'un ni l'autre  Tickets jetables  \n",
      "Facilite_cards                                                   \n",
      "Difficile                           25.000000         25.345912  \n",
      "Facile                              25.703446         24.818211  \n",
      "Moyen                               25.206485         23.003977  \n",
      "Très difficile                      23.992383         26.118692  \n",
      "Très facile                         24.930491         23.787458  \n"
     ]
    }
   ],
   "source": [
    "# Corrélation entre la facilité d'utilisation des tickets et des cartes et la méthode de paiement préférée\n",
    "facilite_tickets_preference = pd.crosstab(df['Facilite_tickets'], df['preference'], normalize='index') * 100\n",
    "facilite_cards_preference = pd.crosstab(df['Facilite_cards'], df['preference'], normalize='index') * 100\n",
    "\n",
    "print(\"Corrélation entre la facilité d'utilisation des tickets et la méthode de paiement préférée:\")\n",
    "print(facilite_tickets_preference)\n",
    "print()\n",
    "\n",
    "print(\"Corrélation entre la facilité d'utilisation des cartes et la méthode de paiement préférée:\")\n",
    "print(facilite_cards_preference)\n",
    "# Export the crosstabulations to Excel\n",
    "facilite_tickets_preference.to_excel('facilite_tickets_preference.xlsx', index=True)\n",
    "facilite_cards_preference.to_excel('facilite_cards_preference.xlsx', index=True)\n"
   ]
  },
  {
   "cell_type": "code",
   "execution_count": 73,
   "id": "99c0885d-eeae-43d7-a502-3e753a936ca7",
   "metadata": {
    "tags": []
   },
   "outputs": [
    {
     "name": "stdout",
     "output_type": "stream",
     "text": [
      "Satisfaction des passagers en fonction de l'âge:\n",
      "satisfaction     Insatisfait  Moyennement satisfait  Satisfait  \\\n",
      "age                                                              \n",
      "18-24 ans          19.209660              19.429199  20.343944   \n",
      "25-34 ans          20.416025              18.567026  21.109399   \n",
      "35-44 ans          19.590317              21.750466  19.366853   \n",
      "45-54 ans          20.068156              20.711852  19.954563   \n",
      "55 ans et plus     19.242090              20.640177  19.242090   \n",
      "Moins de 18 ans    20.060906              19.680244  19.299581   \n",
      "\n",
      "satisfaction     Très insatisfait  Très satisfait  \n",
      "age                                                \n",
      "18-24 ans               20.636663       20.380534  \n",
      "25-34 ans               19.953775       19.953775  \n",
      "35-44 ans               18.621974       20.670391  \n",
      "45-54 ans               20.598258       18.667172  \n",
      "55 ans et plus          19.536424       21.339220  \n",
      "Moins de 18 ans         21.545489       19.413780  \n"
     ]
    }
   ],
   "source": [
    "# Analyse de la satisfaction en fonction de l'âge\n",
    "satisfaction_age = df.groupby('age')['satisfaction'].value_counts(normalize=True).unstack() * 100\n",
    "print(\"Satisfaction des passagers en fonction de l'âge:\")\n",
    "print(satisfaction_age)\n",
    "satisfaction_age.to_excel('satisfaction_age.xlsx', index=True)"
   ]
  },
  {
   "cell_type": "code",
   "execution_count": 74,
   "id": "1617d484-a35b-4642-a827-24ef37ec8dc5",
   "metadata": {
    "tags": []
   },
   "outputs": [
    {
     "name": "stdout",
     "output_type": "stream",
     "text": [
      "Intention future d'utilisation en fonction de la méthode de paiement préférée:\n",
      "continue_usage_future          Ne sais pas  Non, certainement pas  \\\n",
      "preference                                                          \n",
      "Autre                            20.220220              19.544545   \n",
      "Cartes rechargeables             19.862509              19.543334   \n",
      "Ne préfère ni l'un ni l'autre    20.125156              20.675845   \n",
      "Tickets jetables                 19.893293              20.172764   \n",
      "\n",
      "continue_usage_future          Non, probablement pas  Oui, certainement  \\\n",
      "preference                                                                \n",
      "Autre                                      19.969970          20.545546   \n",
      "Cartes rechargeables                       20.353548          20.353548   \n",
      "Ne préfère ni l'un ni l'autre              20.000000          19.699625   \n",
      "Tickets jetables                           19.740854          19.181911   \n",
      "\n",
      "continue_usage_future          Oui, probablement  \n",
      "preference                                        \n",
      "Autre                                  19.719720  \n",
      "Cartes rechargeables                   19.887061  \n",
      "Ne préfère ni l'un ni l'autre          19.499374  \n",
      "Tickets jetables                       21.011179  \n"
     ]
    }
   ],
   "source": [
    "# Analyse de l'intention future d'utilisation en fonction de la méthode de paiement préférée\n",
    "future_usage_payment = df.groupby('preference')['continue_usage_future'].value_counts(normalize=True).unstack() * 100\n",
    "print(\"Intention future d'utilisation en fonction de la méthode de paiement préférée:\")\n",
    "print(future_usage_payment)\n",
    "# Export the future_usage_payment crosstabulation to Excel\n",
    "future_usage_payment.to_excel('future_usage_payment.xlsx', index=True)"
   ]
  },
  {
   "cell_type": "code",
   "execution_count": 75,
   "id": "ba1dfbe2-7dc7-43e2-a2f6-b1926f618ce8",
   "metadata": {
    "tags": []
   },
   "outputs": [
    {
     "name": "stdout",
     "output_type": "stream",
     "text": [
      "Mots les plus fréquents dans les commentaires :\n",
      "les: 23911 fois\n",
      "plus: 16000 fois\n",
      "de: 16000 fois\n",
      "Il: 8089 fois\n",
      "serait: 8089 fois\n",
      "bénéfique: 8089 fois\n",
      "d'avoir: 8089 fois\n",
      "contrôleurs: 8089 fois\n",
      "dans: 8089 fois\n",
      "tramways: 8089 fois\n"
     ]
    }
   ],
   "source": [
    "# Analyse des commentaires des passagers\n",
    "comments = df['comments'].dropna()  # Supprimer les valeurs manquantes\n",
    "comment_words = ' '.join(comments).split()  # Séparer les mots des commentaires\n",
    "\n",
    "# Calculer la fréquence des mots les plus fréquents\n",
    "from collections import Counter\n",
    "word_freq = Counter(comment_words)\n",
    "common_words = word_freq.most_common(10)\n",
    "\n",
    "# Afficher les mots les plus fréquents dans les commentaires\n",
    "print(\"Mots les plus fréquents dans les commentaires :\")\n",
    "for word, freq in common_words:\n",
    "    print(f\"{word}: {freq} fois\")\n"
   ]
  },
  {
   "cell_type": "code",
   "execution_count": 81,
   "id": "0b917c7d-0d4e-4e61-b53a-4cd4b9659c85",
   "metadata": {
    "tags": []
   },
   "outputs": [
    {
     "name": "stdout",
     "output_type": "stream",
     "text": [
      "importance_ecological_sustainability\n",
      "Important                3.012473\n",
      "Moyennement important    3.009063\n",
      "Pas du tout important    2.999684\n",
      "Peu important            2.990025\n",
      "Très important           2.988816\n",
      "Name: satisfaction_num, dtype: float64\n"
     ]
    }
   ],
   "source": [
    "# Convertir les réponses de satisfaction en valeurs numériques\n",
    "satisfaction_mapping = {\n",
    "    \"Très satisfait\": 5,\n",
    "    \"Satisfait\": 4,\n",
    "    \"Moyennement satisfait\": 3,\n",
    "    \"Insatisfait\": 2,\n",
    "    \"Très insatisfait\": 1\n",
    "}\n",
    "df['satisfaction_num'] = df['satisfaction'].map(satisfaction_mapping)\n",
    "\n",
    "# Calculer la moyenne de satisfaction pour chaque niveau d'importance écologique\n",
    "satisfaction_eco = df.groupby('importance_ecological_sustainability')['satisfaction_num'].mean()\n",
    "print(satisfaction_eco)\n",
    "# Export the satisfaction_eco to Excel\n",
    "satisfaction_eco.to_excel('satisfaction_eco.xlsx', index=True)"
   ]
  },
  {
   "cell_type": "code",
   "execution_count": 79,
   "id": "e032b6ad-2e6d-4f48-bb42-db897ee2c433",
   "metadata": {
    "tags": []
   },
   "outputs": [
    {
     "name": "stdout",
     "output_type": "stream",
     "text": [
      "Cost per trip for disposable tickets: 8\n",
      "Cost per trip for rechargeable cards: 0.5\n"
     ]
    }
   ],
   "source": [
    "# Calculate average cost per trip for disposable tickets and rechargeable cards\n",
    "cost_tickets = 8  # Cost of a disposable ticket\n",
    "cost_card = 15 / 5  # Cost of a rechargeable card divided by its validity period\n",
    "cost_trip_tickets = cost_tickets\n",
    "cost_trip_card = cost_card / 6  # Assuming one recharge per week\n",
    "print(\"Cost per trip for disposable tickets:\", cost_trip_tickets)\n",
    "print(\"Cost per trip for rechargeable cards:\", cost_trip_card)\n"
   ]
  },
  {
   "cell_type": "code",
   "execution_count": 82,
   "id": "0420334b-84a1-4329-aab8-308808e49ce1",
   "metadata": {
    "tags": []
   },
   "outputs": [
    {
     "name": "stdout",
     "output_type": "stream",
     "text": [
      "satisfaction\n",
      "Insatisfait              0.197090\n",
      "Moyennement satisfait    0.203290\n",
      "Satisfait                0.199937\n",
      "Très insatisfait         0.201675\n",
      "Très satisfait           0.203548\n",
      "Name: recommendation_likelihood, dtype: float64\n"
     ]
    }
   ],
   "source": [
    "# Group by satisfaction and calculate proportion likely to recommend\n",
    "recommendation_likelihood = df.groupby('satisfaction')['recommendation_likelihood'].apply(lambda x: (x == 'Très probable').mean())\n",
    "print(recommendation_likelihood)\n",
    "# Export the future_usage_payment crosstabulation to Excel\n",
    "recommendation_likelihood.to_excel('recommendation_likelihood.xlsx', index=True)"
   ]
  },
  {
   "cell_type": "code",
   "execution_count": null,
   "id": "b5a279f8-c647-417f-bcbc-bad4b25e5248",
   "metadata": {},
   "outputs": [],
   "source": []
  }
 ],
 "metadata": {
  "kernelspec": {
   "display_name": "Python 3 (ipykernel)",
   "language": "python",
   "name": "python3"
  },
  "language_info": {
   "codemirror_mode": {
    "name": "ipython",
    "version": 3
   },
   "file_extension": ".py",
   "mimetype": "text/x-python",
   "name": "python",
   "nbconvert_exporter": "python",
   "pygments_lexer": "ipython3",
   "version": "3.11.5"
  }
 },
 "nbformat": 4,
 "nbformat_minor": 5
}
